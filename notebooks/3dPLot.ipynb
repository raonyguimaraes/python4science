{
 "cells": [
  {
   "cell_type": "code",
   "execution_count": 4,
   "metadata": {
    "collapsed": false
   },
   "outputs": [],
   "source": [
    "from mpl_toolkits.mplot3d import Axes3D\n",
    "import numpy as np\n",
    "import matplotlib.pyplot as plt\n",
    "\n",
    "fig = plt.figure()\n",
    "ax = fig.gca(projection='3d')\n",
    "\n",
    "x = np.linspace(0, 1, 100)\n",
    "y = np.sin(x * 2 * np.pi) / 2 + 0.5\n",
    "ax.plot(x, y, zs=0, zdir='z', label='zs=0, zdir=z')\n",
    "\n",
    "colors = ('r', 'g', 'b', 'k')\n",
    "for c in colors:\n",
    "    x = np.random.sample(20)\n",
    "    y = np.random.sample(20)\n",
    "    ax.scatter(x, y, 0, zdir='y', c=c)\n",
    "\n",
    "ax.legend()\n",
    "ax.set_xlim3d(0, 1)\n",
    "ax.set_ylim3d(0, 1)\n",
    "ax.set_zlim3d(0, 1)\n",
    "\n",
    "plt.show()"
   ]
  },
  {
   "cell_type": "code",
   "execution_count": null,
   "metadata": {
    "collapsed": false
   },
   "outputs": [],
   "source": [
    "from mayavi import mlab\n",
    "from mpl_toolkits.mplot3d import Axes3D\n",
    "\n",
    "x, y, z, value = np.random.random((4, 40))\n",
    "mlab.points3d(x, y, z, value)\n"
   ]
  }
 ],
 "metadata": {
  "kernelspec": {
   "display_name": "Python 2",
   "language": "python",
   "name": "python2"
  },
  "language_info": {
   "codemirror_mode": {
    "name": "ipython",
    "version": 2
   },
   "file_extension": ".py",
   "mimetype": "text/x-python",
   "name": "python",
   "nbconvert_exporter": "python",
   "pygments_lexer": "ipython2",
   "version": "2.7.6"
  }
 },
 "nbformat": 4,
 "nbformat_minor": 0
}
