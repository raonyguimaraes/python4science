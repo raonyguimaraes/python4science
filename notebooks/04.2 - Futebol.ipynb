{
 "cells": [
  {
   "cell_type": "code",
   "execution_count": 1,
   "metadata": {
    "collapsed": false
   },
   "outputs": [],
   "source": [
    "#!/usr/bin/env python\n",
    "# -*- coding: utf-\n",
    "#parse data8 -*-\n",
    "\n",
    "import sys\n",
    "reload(sys)\n",
    "sys.setdefaultencoding(\"utf-8\")\n",
    "import matplotlib.pyplot as plt\n"
   ]
  },
  {
   "cell_type": "code",
   "execution_count": 2,
   "metadata": {
    "collapsed": false
   },
   "outputs": [],
   "source": [
    "import os\n",
    "import csv\n",
    "\n",
    "from collections import OrderedDict\n",
    "\n",
    "times = OrderedDict()\n",
    "gastos = OrderedDict()\n",
    "pontos = OrderedDict()\n",
    "vitorias = OrderedDict()\n",
    "\n",
    "data = csv.reader(open('../moneyball/futebol/times.csv'), delimiter=',', quotechar='\"')\n",
    "\n",
    "header = data.next()\n",
    "years = sorted(filter(None, header))\n",
    "title = data.next()\n",
    "\n",
    "for year in years:\n",
    "    gastos[year] = []\n",
    "    pontos[year] = []\n",
    "    vitorias[year] = []\n"
   ]
  },
  {
   "cell_type": "code",
   "execution_count": 3,
   "metadata": {
    "collapsed": false
   },
   "outputs": [],
   "source": [
    "for line in data:\n",
    "    time = line[1]\n",
    "    times[time] = OrderedDict()\n",
    "    count = 2\n",
    "    for year in years:\n",
    "        gastos[year].append(line[count])\n",
    "        pontos[year].append(line[count+1])\n",
    "        vitorias[year].append(line[count+2])        \n",
    "        count += 3"
   ]
  },
  {
   "cell_type": "code",
   "execution_count": 4,
   "metadata": {
    "collapsed": false
   },
   "outputs": [],
   "source": [
    "year = '2011'\n",
    "plt.title(\"Campeonato Brasileiro %s\" % (year))\n",
    "plt.xlabel(\"Gastos\")\n",
    "plt.ylabel(\"Pontos\")\n",
    "    \n",
    "plt.plot(gastos[year], pontos[year], 'ro')\n",
    "for i, time in enumerate(times):\n",
    "    plt.annotate(time.decode('utf-8'), xy=(gastos[year][i], pontos[year][i]))\n",
    "plt.show()"
   ]
  },
  {
   "cell_type": "code",
   "execution_count": 5,
   "metadata": {
    "collapsed": false
   },
   "outputs": [],
   "source": [
    "year = '2012'\n",
    "plt.title(\"Campeonato Brasileiro %s\" % (year))\n",
    "plt.xlabel(\"Gastos\")\n",
    "plt.ylabel(\"Pontos\")\n",
    "    \n",
    "plt.plot(gastos[year], pontos[year], 'ro')\n",
    "for i, time in enumerate(times):\n",
    "    plt.annotate(time.decode('utf-8'), xy=(gastos[year][i], pontos[year][i]))\n",
    "plt.show()"
   ]
  },
  {
   "cell_type": "code",
   "execution_count": 6,
   "metadata": {
    "collapsed": false
   },
   "outputs": [],
   "source": [
    "year = '2013'\n",
    "plt.title(\"Campeonato Brasileiro %s\" % (year))\n",
    "plt.xlabel(\"Gastos\")\n",
    "plt.ylabel(\"Pontos\")\n",
    "    \n",
    "plt.plot(gastos[year], pontos[year], 'ro')\n",
    "for i, time in enumerate(times):\n",
    "    plt.annotate(time.decode('utf-8'), xy=(gastos[year][i], pontos[year][i]))\n",
    "plt.show()"
   ]
  }
 ],
 "metadata": {
  "kernelspec": {
   "display_name": "Python 2",
   "language": "python",
   "name": "python2"
  },
  "language_info": {
   "codemirror_mode": {
    "name": "ipython",
    "version": 2
   },
   "file_extension": ".py",
   "mimetype": "text/x-python",
   "name": "python",
   "nbconvert_exporter": "python",
   "pygments_lexer": "ipython2",
   "version": "2.7.6"
  }
 },
 "nbformat": 4,
 "nbformat_minor": 0
}
