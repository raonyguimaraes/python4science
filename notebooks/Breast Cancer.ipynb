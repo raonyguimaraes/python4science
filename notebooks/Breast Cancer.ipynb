{
 "cells": [
  {
   "cell_type": "code",
   "execution_count": null,
   "metadata": {
    "collapsed": false
   },
   "outputs": [],
   "source": [
    "import os\n",
    "Release = 75\n",
    "from cogent.db.ensembl import HostAccount\n",
    "\n",
    "from cogent.db.ensembl import Genome\n",
    "import os\n",
    "\n",
    "if 'ENSEMBL_ACCOUNT' in os.environ:\n",
    "    host, username, password = os.environ['ENSEMBL_ACCOUNT'].split()\n",
    "    account = HostAccount(host, username, password)\n",
    "else:\n",
    "    account = None\n",
    "    \n",
    "#from cogent.db.ensembl import Species\n",
    "#print Species\n",
    "\n",
    "human = Genome('human', Release=75, account=account)\n",
    "\n",
    "gene_symbols = ['brca1', 'brca2']\n",
    "\n",
    "genomes1k_url = 'ftp://ftp.1000genomes.ebi.ac.uk/vol1/ftp/release/20130502'\n",
    "\n",
    "for gene_symbol in gene_symbols:\n",
    "    print gene_symbol\n",
    "    genes = human.getGenesMatching(Symbol=gene_symbol)\n",
    "    for gene in genes:\n",
    "        print gene.Location.CoordName\n",
    "        print gene.Location.Start, gene.Location.End\n",
    "        command = './breastcancer/programs/htslib/tabix -h \\\n",
    "        %s/ALL.chr%s.phase3_shapeit2_mvncall_integrated_v5a.20130502.genotypes.vcf.gz \\\n",
    "        %s:%s-%s > breastcancer/%s.vcf' % (genomes1k_url, gene.Location.CoordName, gene.Location.CoordName, gene.Location.Start, gene.Location.End, gene_symbol)\n",
    "        print command\n",
    "        #os.system(command)\n",
    "        size = gene.Location.End - gene.Location.Start\n",
    "        print 'Size', size\n",
    "        print gene.Location.Strand\n",
    "#brca2 = human.getGeneByStableId(StableId='ENSG00000139618')\n",
    "#transcript = brca2.CanonicalTranscript\n",
    "#print transcript\n",
    "\n",
    "\n",
    "#get a single snp\n",
    "#snp = list(human.getVariation(Symbol='rs34213141'))[0]\n"
   ]
  },
  {
   "cell_type": "code",
   "execution_count": null,
   "metadata": {
    "collapsed": false
   },
   "outputs": [],
   "source": []
  }
 ],
 "metadata": {
  "kernelspec": {
   "display_name": "Python 2",
   "language": "python",
   "name": "python2"
  },
  "language_info": {
   "codemirror_mode": {
    "name": "ipython",
    "version": 2
   },
   "file_extension": ".py",
   "mimetype": "text/x-python",
   "name": "python",
   "nbconvert_exporter": "python",
   "pygments_lexer": "ipython2",
   "version": "2.7.6"
  }
 },
 "nbformat": 4,
 "nbformat_minor": 0
}
