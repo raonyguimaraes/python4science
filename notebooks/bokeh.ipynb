{
 "metadata": {
  "name": ""
 },
 "nbformat": 3,
 "nbformat_minor": 0,
 "worksheets": [
  {
   "cells": [
    {
     "cell_type": "code",
     "collapsed": false,
     "input": [
      "from bokeh.plotting import figure, output_file, show\n",
      "\n",
      "\n",
      "# prepare some data\n",
      "x = [1, 2, 3, 4, 5]\n",
      "y = [6, 7, 2, 4, 5]\n",
      "\n",
      "# output to static HTML file\n",
      "output_file(\"lines.html\", title=\"line plot example\")\n",
      "\n",
      "# Plot a `line` renderer setting the color, line thickness, title, and legend value.\n",
      "p = figure(title=\"simple line example\")\n",
      "p.line(x, y, legend=\"Temp.\", x_axis_label='x', y_axis_label='y')\n",
      "\n",
      "show(p)"
     ],
     "language": "python",
     "metadata": {},
     "outputs": [
      {
       "output_type": "stream",
       "stream": "stdout",
       "text": [
        "Session output file 'lines.html' already exists, will be overwritten.\n"
       ]
      }
     ],
     "prompt_number": 7
    },
    {
     "cell_type": "code",
     "collapsed": false,
     "input": [
      "from bokeh.plotting import *\n",
      "output_notebook()\n",
      "from numpy import *\n",
      "x = linspace(-6, 6, 100)\n",
      "y = cos(x)\n",
      "circle(x, y, color=\"red\", plot_width=500, plot_height=500)\n",
      "show()"
     ],
     "language": "python",
     "metadata": {},
     "outputs": [
      {
       "ename": "TypeError",
       "evalue": "show() takes at least 1 argument (0 given)",
       "output_type": "pyerr",
       "traceback": [
        "\u001b[0;31m---------------------------------------------------------------------------\u001b[0m\n\u001b[0;31mTypeError\u001b[0m                                 Traceback (most recent call last)",
        "\u001b[0;32m<ipython-input-17-24468b80f1bb>\u001b[0m in \u001b[0;36m<module>\u001b[0;34m()\u001b[0m\n\u001b[1;32m      5\u001b[0m \u001b[0my\u001b[0m \u001b[0;34m=\u001b[0m \u001b[0mcos\u001b[0m\u001b[0;34m(\u001b[0m\u001b[0mx\u001b[0m\u001b[0;34m)\u001b[0m\u001b[0;34m\u001b[0m\u001b[0m\n\u001b[1;32m      6\u001b[0m \u001b[0mp\u001b[0m\u001b[0;34m.\u001b[0m\u001b[0mcircle\u001b[0m\u001b[0;34m(\u001b[0m\u001b[0mx\u001b[0m\u001b[0;34m,\u001b[0m \u001b[0my\u001b[0m\u001b[0;34m,\u001b[0m \u001b[0mcolor\u001b[0m\u001b[0;34m=\u001b[0m\u001b[0;34m\"red\"\u001b[0m\u001b[0;34m,\u001b[0m \u001b[0mplot_width\u001b[0m\u001b[0;34m=\u001b[0m\u001b[0;36m500\u001b[0m\u001b[0;34m,\u001b[0m \u001b[0mplot_height\u001b[0m\u001b[0;34m=\u001b[0m\u001b[0;36m500\u001b[0m\u001b[0;34m)\u001b[0m\u001b[0;34m\u001b[0m\u001b[0m\n\u001b[0;32m----> 7\u001b[0;31m \u001b[0mshow\u001b[0m\u001b[0;34m(\u001b[0m\u001b[0;34m)\u001b[0m\u001b[0;34m\u001b[0m\u001b[0m\n\u001b[0m",
        "\u001b[0;31mTypeError\u001b[0m: show() takes at least 1 argument (0 given)"
       ]
      }
     ],
     "prompt_number": 17
    },
    {
     "cell_type": "code",
     "collapsed": false,
     "input": [],
     "language": "python",
     "metadata": {},
     "outputs": []
    },
    {
     "cell_type": "code",
     "collapsed": false,
     "input": [],
     "language": "python",
     "metadata": {},
     "outputs": []
    },
    {
     "cell_type": "code",
     "collapsed": false,
     "input": [
      "from bokeh.sampledata.autompg import autompg\n",
      "grouped = autompg.groupby(\"yr\")\n",
      "mpg = grouped[\"mpg\"]\n",
      "avg = mpg.mean()\n",
      "std = mpg.std()\n",
      "years = asarray(grouped.groups.keys())\n",
      "american = autompg[autompg[\"origin\"]==1]\n",
      "japanese = autompg[autompg[\"origin\"]==3]"
     ],
     "language": "python",
     "metadata": {},
     "outputs": [],
     "prompt_number": 13
    },
    {
     "cell_type": "code",
     "collapsed": false,
     "input": [
      "hold(True)\n",
      "figure()\n",
      "quad(left=years-0.4, right=years+0.4, bottom=avg-std, top=avg+std, \n",
      "     fill_alpha=0.4)\n",
      "circle(x=asarray(japanese[\"yr\"]), y=asarray(japanese[\"mpg\"]), \n",
      "       size=8,\n",
      "       alpha=0.4, line_color=\"red\", fill_color=None, line_width=2)\n",
      "triangle(x=asarray(american[\"yr\"]), y=asarray(american[\"mpg\"]),\n",
      "         size=8, alpha=0.4, line_color=\"blue\", fill_color=None,\n",
      "         line_width=2)\n",
      "hold(False)\n",
      "show()"
     ],
     "language": "python",
     "metadata": {},
     "outputs": [
      {
       "ename": "NameError",
       "evalue": "name 'hold' is not defined",
       "output_type": "pyerr",
       "traceback": [
        "\u001b[0;31m---------------------------------------------------------------------------\u001b[0m\n\u001b[0;31mNameError\u001b[0m                                 Traceback (most recent call last)",
        "\u001b[0;32m<ipython-input-14-d768a5722489>\u001b[0m in \u001b[0;36m<module>\u001b[0;34m()\u001b[0m\n\u001b[0;32m----> 1\u001b[0;31m \u001b[0mhold\u001b[0m\u001b[0;34m(\u001b[0m\u001b[0mTrue\u001b[0m\u001b[0;34m)\u001b[0m\u001b[0;34m\u001b[0m\u001b[0m\n\u001b[0m\u001b[1;32m      2\u001b[0m \u001b[0mfigure\u001b[0m\u001b[0;34m(\u001b[0m\u001b[0;34m)\u001b[0m\u001b[0;34m\u001b[0m\u001b[0m\n\u001b[1;32m      3\u001b[0m quad(left=years-0.4, right=years+0.4, bottom=avg-std, top=avg+std, \n\u001b[1;32m      4\u001b[0m      fill_alpha=0.4)\n\u001b[1;32m      5\u001b[0m circle(x=asarray(japanese[\"yr\"]), y=asarray(japanese[\"mpg\"]), \n",
        "\u001b[0;31mNameError\u001b[0m: name 'hold' is not defined"
       ]
      }
     ],
     "prompt_number": 14
    },
    {
     "cell_type": "code",
     "collapsed": false,
     "input": [
      "output_notebook()\n",
      "source = ColumnDataSource(autompg.to_dict(\"list\"))\n",
      "source.add(autompg[\"yr\"], name=\"yr\")\n",
      "plot_config = dict(plot_width=400, plot_height=400, tools=\"pan,wheel_zoom,box_zoom,select\")\n",
      "gridplot([[\n",
      "  circle(\"yr\", \"mpg\", color=\"blue\", title=\"MPG by Year\",\n",
      "         source=source, **plot_config),\n",
      "  circle(\"hp\", \"displ\", color=\"green\", title=\"HP vs. Displacement\",\n",
      "         source=source, **plot_config),\n",
      "  circle(\"mpg\", \"displ\", size=\"cyl\", line_color=\"red\", title=\"MPG vs. Displacement\",\n",
      "         fill_color=None, source=source, **plot_config)\n",
      "  ]])\n",
      "show()"
     ],
     "language": "python",
     "metadata": {},
     "outputs": [
      {
       "ename": "NameError",
       "evalue": "name 'circle' is not defined",
       "output_type": "pyerr",
       "traceback": [
        "\u001b[0;31m---------------------------------------------------------------------------\u001b[0m\n\u001b[0;31mNameError\u001b[0m                                 Traceback (most recent call last)",
        "\u001b[0;32m<ipython-input-15-2ea34ff0431c>\u001b[0m in \u001b[0;36m<module>\u001b[0;34m()\u001b[0m\n\u001b[1;32m      4\u001b[0m \u001b[0mplot_config\u001b[0m \u001b[0;34m=\u001b[0m \u001b[0mdict\u001b[0m\u001b[0;34m(\u001b[0m\u001b[0mplot_width\u001b[0m\u001b[0;34m=\u001b[0m\u001b[0;36m400\u001b[0m\u001b[0;34m,\u001b[0m \u001b[0mplot_height\u001b[0m\u001b[0;34m=\u001b[0m\u001b[0;36m400\u001b[0m\u001b[0;34m,\u001b[0m \u001b[0mtools\u001b[0m\u001b[0;34m=\u001b[0m\u001b[0;34m\"pan,wheel_zoom,box_zoom,select\"\u001b[0m\u001b[0;34m)\u001b[0m\u001b[0;34m\u001b[0m\u001b[0m\n\u001b[1;32m      5\u001b[0m gridplot([[\n\u001b[0;32m----> 6\u001b[0;31m   circle(\"yr\", \"mpg\", color=\"blue\", title=\"MPG by Year\",\n\u001b[0m\u001b[1;32m      7\u001b[0m          source=source, **plot_config),\n\u001b[1;32m      8\u001b[0m   circle(\"hp\", \"displ\", color=\"green\", title=\"HP vs. Displacement\",\n",
        "\u001b[0;31mNameError\u001b[0m: name 'circle' is not defined"
       ]
      }
     ],
     "prompt_number": 15
    }
   ],
   "metadata": {}
  }
 ]
}