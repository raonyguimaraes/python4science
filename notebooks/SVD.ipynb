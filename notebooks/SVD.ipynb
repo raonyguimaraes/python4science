{
 "metadata": {
  "name": ""
 },
 "nbformat": 3,
 "nbformat_minor": 0,
 "worksheets": [
  {
   "cells": [
    {
     "cell_type": "code",
     "collapsed": false,
     "input": [
      "#svd analysis in Python\n",
      "\n",
      "#Big Challenge!!!!\n",
      "import numpy as np\n",
      "from scipy import *\n",
      "import numpy as np\n",
      "\n",
      "import csv\n",
      "from rpy2.robjects import r\n",
      "\n",
      "import rpy2.robjects as robjects\n",
      "\n",
      "import rpy2.robjects.numpy2ri\n",
      "\n",
      "#rpy2.robjects.numpy2ri.activate()\n",
      "\n",
      "#read data to array matrix\n",
      "files = ['project-svd/BRCA_599tumor.csv', 'project-svd/BRCA_62normal.csv']\n",
      "data_list = []\n",
      "individual_ids = []\n",
      "\n",
      "for ffile in files:\n",
      "    \n",
      "    matrix = csv.reader(open(ffile, 'r'),delimiter='\\t')\n",
      "\n",
      "    #header = matrix.next()\n",
      "    header = matrix.next()\n",
      "    labCol=header[1:]\n",
      "    \n",
      "    lista = []\n",
      "    for line in matrix:\n",
      "\trow = []\n",
      "\tindividual_id = line[0]\n",
      "\tindividual_ids.append(individual_id)\n",
      "\tfor item in line[1:]:\n",
      "\t#for all rows do\n",
      "\t    if item != '':\n",
      "\t\trow.append(float(item))\n",
      "\t    else:\n",
      "\t\trow.append(float(0))\n",
      "\tlista.append(row)\n",
      "    data = np.array(lista)\n",
      "    data_list.append(data)\n",
      "\n",
      "#print shapes\n",
      "for data in data_list:\n",
      "    print data.shape\n",
      "    \n",
      "sample = np.concatenate(data_list)\n",
      "print sample.shape\n",
      "#sample = sample.transpose()\n",
      "#print sample.shape\n",
      "print len(individual_ids)\n",
      "\n",
      "print \"#apply SVD\"\n",
      "U, S, V = np.linalg.svd(sample, full_matrices=False)\n",
      "#S = np.diag(S)\n",
      "\n",
      "print U.shape, V.shape, S.shape\n",
      "\n",
      "\n",
      "#V = V.T\n",
      "\n",
      "#visualize in 3D\n",
      "import matplotlib.pyplot as plt\n",
      "from mpl_toolkits.mplot3d import Axes3D\n",
      "fig = plt.figure()\n",
      "ax = Axes3D(fig)\n",
      "t(U,S,V)\n",
      "plt.show()\n",
      "\n",
      "#cluster data\n",
      "#visualize cluster in 3d\n",
      "\n",
      "\n",
      "#heatmap\n",
      "#args = {'margins':r('c(5,10)')}\n",
      "##**args\n",
      "#r.heatmap(sample, margins=r('c(10,10)'), labCol=labCol, labRow=individual_ids)\n",
      "#raw_input(\"Press ENTER to exit\")\n",
      "\n",
      "\n",
      "\n",
      "##'Rowv': r('NA'), 'Colv':r('NA')\n",
      "#args = {'margins':r('c(5,10)')}\n",
      "##**args\n",
      "#r.heatmap(data, margins=r('c(10,10)'), labCol=snp_list, labRow=individuals)\n",
      "#raw_input(\"Press ENTER to exit\")"
     ],
     "language": "python",
     "metadata": {},
     "outputs": [
      {
       "output_type": "stream",
       "stream": "stdout",
       "text": [
        "(599, 17814)\n",
        "(62, 17814)\n",
        "(661, 17814)\n",
        "661\n",
        "#apply SVD\n",
        "(661, 661)"
       ]
      },
      {
       "ename": "ValueError",
       "evalue": "Arguments 'xs' and 'ys' must be of same size.",
       "output_type": "pyerr",
       "traceback": [
        "\u001b[0;31m---------------------------------------------------------------------------\u001b[0m\n\u001b[0;31mValueError\u001b[0m                                Traceback (most recent call last)",
        "\u001b[0;32m<ipython-input-1-054b30c29ac7>\u001b[0m in \u001b[0;36m<module>\u001b[0;34m()\u001b[0m\n\u001b[1;32m     67\u001b[0m \u001b[0mfig\u001b[0m \u001b[0;34m=\u001b[0m \u001b[0mplt\u001b[0m\u001b[0;34m.\u001b[0m\u001b[0mfigure\u001b[0m\u001b[0;34m(\u001b[0m\u001b[0;34m)\u001b[0m\u001b[0;34m\u001b[0m\u001b[0m\n\u001b[1;32m     68\u001b[0m \u001b[0max\u001b[0m \u001b[0;34m=\u001b[0m \u001b[0mAxes3D\u001b[0m\u001b[0;34m(\u001b[0m\u001b[0mfig\u001b[0m\u001b[0;34m)\u001b[0m\u001b[0;34m\u001b[0m\u001b[0m\n\u001b[0;32m---> 69\u001b[0;31m \u001b[0max\u001b[0m\u001b[0;34m.\u001b[0m\u001b[0mscatter\u001b[0m\u001b[0;34m(\u001b[0m\u001b[0mU\u001b[0m\u001b[0;34m,\u001b[0m\u001b[0mS\u001b[0m\u001b[0;34m,\u001b[0m\u001b[0mV\u001b[0m\u001b[0;34m)\u001b[0m\u001b[0;34m\u001b[0m\u001b[0m\n\u001b[0m\u001b[1;32m     70\u001b[0m \u001b[0mplt\u001b[0m\u001b[0;34m.\u001b[0m\u001b[0mshow\u001b[0m\u001b[0;34m(\u001b[0m\u001b[0;34m)\u001b[0m\u001b[0;34m\u001b[0m\u001b[0m\n\u001b[1;32m     71\u001b[0m \u001b[0;34m\u001b[0m\u001b[0m\n",
        "\u001b[0;32m/usr/lib/pymodules/python2.7/mpl_toolkits/mplot3d/axes3d.pyc\u001b[0m in \u001b[0;36mscatter\u001b[0;34m(self, xs, ys, zs, zdir, s, c, *args, **kwargs)\u001b[0m\n\u001b[1;32m   2160\u001b[0m         \u001b[0mzs\u001b[0m \u001b[0;34m=\u001b[0m \u001b[0mnp\u001b[0m\u001b[0;34m.\u001b[0m\u001b[0mma\u001b[0m\u001b[0;34m.\u001b[0m\u001b[0mravel\u001b[0m\u001b[0;34m(\u001b[0m\u001b[0mzs\u001b[0m\u001b[0;34m)\u001b[0m\u001b[0;34m\u001b[0m\u001b[0m\n\u001b[1;32m   2161\u001b[0m         \u001b[0;32mif\u001b[0m \u001b[0mxs\u001b[0m\u001b[0;34m.\u001b[0m\u001b[0msize\u001b[0m \u001b[0;34m!=\u001b[0m \u001b[0mys\u001b[0m\u001b[0;34m.\u001b[0m\u001b[0msize\u001b[0m\u001b[0;34m:\u001b[0m\u001b[0;34m\u001b[0m\u001b[0m\n\u001b[0;32m-> 2162\u001b[0;31m             \u001b[0;32mraise\u001b[0m \u001b[0mValueError\u001b[0m\u001b[0;34m(\u001b[0m\u001b[0;34m\"Arguments 'xs' and 'ys' must be of same size.\"\u001b[0m\u001b[0;34m)\u001b[0m\u001b[0;34m\u001b[0m\u001b[0m\n\u001b[0m\u001b[1;32m   2163\u001b[0m         \u001b[0;32mif\u001b[0m \u001b[0mxs\u001b[0m\u001b[0;34m.\u001b[0m\u001b[0msize\u001b[0m \u001b[0;34m!=\u001b[0m \u001b[0mzs\u001b[0m\u001b[0;34m.\u001b[0m\u001b[0msize\u001b[0m\u001b[0;34m:\u001b[0m\u001b[0;34m\u001b[0m\u001b[0m\n\u001b[1;32m   2164\u001b[0m             \u001b[0;32mif\u001b[0m \u001b[0mzs\u001b[0m\u001b[0;34m.\u001b[0m\u001b[0msize\u001b[0m \u001b[0;34m==\u001b[0m \u001b[0;36m1\u001b[0m\u001b[0;34m:\u001b[0m\u001b[0;34m\u001b[0m\u001b[0m\n",
        "\u001b[0;31mValueError\u001b[0m: Arguments 'xs' and 'ys' must be of same size."
       ]
      },
      {
       "output_type": "stream",
       "stream": "stdout",
       "text": [
        " (661, 17814) (661,)\n"
       ]
      }
     ],
     "prompt_number": 1
    }
   ],
   "metadata": {}
  }
 ]
}