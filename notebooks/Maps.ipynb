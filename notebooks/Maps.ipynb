{
 "metadata": {
  "name": ""
 },
 "nbformat": 3,
 "nbformat_minor": 0,
 "worksheets": [
  {
   "cells": [
    {
     "cell_type": "code",
     "collapsed": false,
     "input": [
      "#maps\n",
      "import urllib, urllib2, json\n",
      "\n",
      "address = 'R. Haiti, 55 - Sion Belo Horizonte - MG 30320-140'\n",
      "\n",
      "def decode_address_to_coordinates(address):\n",
      "        params = {\n",
      "                'address' : address,\n",
      "                'sensor' : 'false',\n",
      "        }  \n",
      "        url = 'http://maps.google.com/maps/api/geocode/json?' + urllib.urlencode(params)\n",
      "        response = urllib2.urlopen(url)\n",
      "        result = json.load(response)\n",
      "        try:\n",
      "                return result['results'][0]['geometry']['location']\n",
      "        except:\n",
      "                return None\n",
      "            \n",
      "print decode_address_to_coordinates(address)\n",
      "print decode_address_to_coordinates('Posto Ouro da Serra - Petrobras R. Henrique Passini, 22 , Serra, Belo Horizonte')\n",
      "\n"
     ],
     "language": "python",
     "metadata": {},
     "outputs": [
      {
       "output_type": "stream",
       "stream": "stdout",
       "text": [
        "{u'lat': -19.9584806, u'lng': -43.9387141}\n",
        "{u'lat': -19.9413981, u'lng': -43.91955}"
       ]
      },
      {
       "output_type": "stream",
       "stream": "stdout",
       "text": [
        "\n"
       ]
      }
     ],
     "prompt_number": 16
    },
    {
     "cell_type": "code",
     "collapsed": false,
     "input": [
      "#pip install basemap --allow-external basemap --allow-unverified basemap\n",
      "# Taken from http://nbviewer.ipython.org/github/ipython/ipython/blob/master/examples/Interactive%20Widgets/Custom%20Widgets.ipynb\n",
      "\n",
      "class DateWidget(widgets.DOMWidget):\n",
      "    _view_name = Unicode('DatePickerView', sync=True)\n",
      "    value = Unicode(sync=True)\n",
      "    description = Unicode(sync=True)\n",
      "\n",
      "    # This function automatically gets called by the traitlet machinery when\n",
      "    # value is modified because of this function's name.\n",
      "    def _value_changed(self, name, old_value, new_value):\n",
      "        # Parse the date time value.\n",
      "        try:\n",
      "            parsed_date = parser.parse(new_value)\n",
      "            parsed_date_string = parsed_date.strftime(\"%Y-%m-%d\")\n",
      "        except:\n",
      "            parsed_date_string = ''\n",
      "\n",
      "        # Set the parsed date string if the current date string is different.\n",
      "        if self.value != parsed_date_string:\n",
      "            self.value = parsed_date_string"
     ],
     "language": "python",
     "metadata": {},
     "outputs": [
      {
       "ename": "NameError",
       "evalue": "name 'widgets' is not defined",
       "output_type": "pyerr",
       "traceback": [
        "\u001b[0;31m---------------------------------------------------------------------------\u001b[0m\n\u001b[0;31mNameError\u001b[0m                                 Traceback (most recent call last)",
        "\u001b[0;32m<ipython-input-17-74c65c876e21>\u001b[0m in \u001b[0;36m<module>\u001b[0;34m()\u001b[0m\n\u001b[1;32m      2\u001b[0m \u001b[0;31m# Taken from http://nbviewer.ipython.org/github/ipython/ipython/blob/master/examples/Interactive%20Widgets/Custom%20Widgets.ipynb\u001b[0m\u001b[0;34m\u001b[0m\u001b[0;34m\u001b[0m\u001b[0m\n\u001b[1;32m      3\u001b[0m \u001b[0;34m\u001b[0m\u001b[0m\n\u001b[0;32m----> 4\u001b[0;31m \u001b[0;32mclass\u001b[0m \u001b[0mDateWidget\u001b[0m\u001b[0;34m(\u001b[0m\u001b[0mwidgets\u001b[0m\u001b[0;34m.\u001b[0m\u001b[0mDOMWidget\u001b[0m\u001b[0;34m)\u001b[0m\u001b[0;34m:\u001b[0m\u001b[0;34m\u001b[0m\u001b[0m\n\u001b[0m\u001b[1;32m      5\u001b[0m     \u001b[0m_view_name\u001b[0m \u001b[0;34m=\u001b[0m \u001b[0mUnicode\u001b[0m\u001b[0;34m(\u001b[0m\u001b[0;34m'DatePickerView'\u001b[0m\u001b[0;34m,\u001b[0m \u001b[0msync\u001b[0m\u001b[0;34m=\u001b[0m\u001b[0mTrue\u001b[0m\u001b[0;34m)\u001b[0m\u001b[0;34m\u001b[0m\u001b[0m\n\u001b[1;32m      6\u001b[0m     \u001b[0mvalue\u001b[0m \u001b[0;34m=\u001b[0m \u001b[0mUnicode\u001b[0m\u001b[0;34m(\u001b[0m\u001b[0msync\u001b[0m\u001b[0;34m=\u001b[0m\u001b[0mTrue\u001b[0m\u001b[0;34m)\u001b[0m\u001b[0;34m\u001b[0m\u001b[0m\n",
        "\u001b[0;31mNameError\u001b[0m: name 'widgets' is not defined"
       ]
      }
     ],
     "prompt_number": 17
    }
   ],
   "metadata": {}
  }
 ]
}