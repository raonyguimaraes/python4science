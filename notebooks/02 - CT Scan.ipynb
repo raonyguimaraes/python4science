{
 "cells": [
  {
   "cell_type": "code",
   "execution_count": 6,
   "metadata": {
    "collapsed": true
   },
   "outputs": [],
   "source": [
    "from __future__ import print_function\n",
    "from pylab import *\n",
    "import matplotlib.cbook as cbook\n",
    "\n",
    "w, h = 512, 512\n",
    "\n",
    "datafile = cbook.get_sample_data('ct.raw.gz', asfileobj=True)\n",
    "s = datafile.read()\n",
    "A = fromstring(s, uint16).astype(float)\n",
    "A *= 1.0/max(A)\n",
    "A.shape = w, h\n",
    "\n",
    "extent = (0, 25, 0, 25)\n",
    "im = imshow(A, cmap=cm.hot, origin='upper', extent=extent)\n",
    "\n",
    "markers = [(15.9, 14.5), (16.8, 15)]\n",
    "x,y = zip(*markers)\n",
    "plot(x, y, 'o')\n",
    "title('CT density')\n",
    "\n",
    "if 0:\n",
    "    x = asum(A,0)\n",
    "    subplot(212)\n",
    "    bar(arange(w), x)\n",
    "    xlim(0,h-1)\n",
    "    ylabel('density')\n",
    "    setp(gca(), 'xticklabels', [])\n",
    "\n",
    "show()"
   ]
  },
  {
   "cell_type": "code",
   "execution_count": null,
   "metadata": {
    "collapsed": true
   },
   "outputs": [],
   "source": []
  }
 ],
 "metadata": {
  "kernelspec": {
   "display_name": "Python 2",
   "language": "python",
   "name": "python2"
  },
  "language_info": {
   "codemirror_mode": {
    "name": "ipython",
    "version": 2
   },
   "file_extension": ".py",
   "mimetype": "text/x-python",
   "name": "python",
   "nbconvert_exporter": "python",
   "pygments_lexer": "ipython2",
   "version": "2.7.6"
  }
 },
 "nbformat": 4,
 "nbformat_minor": 0
}
