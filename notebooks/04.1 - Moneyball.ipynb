{
 "cells": [
  {
   "cell_type": "markdown",
   "metadata": {},
   "source": [
    "In 2003, Michael Lewis published Moneyball about Billy Beane, the Oakland Athletics General Manager since 1997. The book was centered around Billy Beane's use of Sabemetrics to identify and recruit under-valued baseball players. With this strategy, his team could achieve as many wins as teams with more than double the payroll."
   ]
  },
  {
   "cell_type": "code",
   "execution_count": null,
   "metadata": {
    "collapsed": false
   },
   "outputs": [],
   "source": [
    "import pandas as pd\n",
    "import scipy as sp\n",
    "import matplotlib.pyplot as plt\n",
    "from matplotlib.ticker import FuncFormatter\n",
    "\n",
    "teams = pd.read_csv('/home/raony/development/python4science/moneyball/lahman-csv_2014-02-14/Teams.csv')\n",
    "\n",
    "teams = teams[teams['yearID'] >= 1985]\n",
    "teams = teams[['yearID', 'teamID', 'Rank', 'R', 'RA', 'G', 'W', 'H', 'BB', 'HBP', 'AB', 'SF', 'HR', '2B', '3B']]\n",
    "teams = teams.set_index(['yearID', 'teamID'])"
   ]
  },
  {
   "cell_type": "markdown",
   "metadata": {},
   "source": [
    "Qual foi o número de vitórias do Oakland em 2001?"
   ]
  },
  {
   "cell_type": "code",
   "execution_count": null,
   "metadata": {
    "collapsed": false
   },
   "outputs": [],
   "source": [
    "teams['W'][2001, 'OAK']"
   ]
  },
  {
   "cell_type": "code",
   "execution_count": null,
   "metadata": {
    "collapsed": false
   },
   "outputs": [],
   "source": [
    "salaries = pd.read_csv('/home/raony/development/python4science/moneyball/lahman-csv_2014-02-14/Salaries.csv')\n",
    "salaries_by_yearID_teamID = salaries.groupby(['yearID', 'teamID'])['salary'].sum()"
   ]
  },
  {
   "cell_type": "markdown",
   "metadata": {},
   "source": [
    "Qual foi o salário do Oakland em 2001?"
   ]
  },
  {
   "cell_type": "code",
   "execution_count": null,
   "metadata": {
    "collapsed": false
   },
   "outputs": [],
   "source": [
    "salaries_by_yearID_teamID[2001, 'OAK']"
   ]
  },
  {
   "cell_type": "code",
   "execution_count": null,
   "metadata": {
    "collapsed": false
   },
   "outputs": [],
   "source": [
    "teams = teams.join(salaries_by_yearID_teamID)\n",
    "teams['salary'][2001, 'OAK']"
   ]
  },
  {
   "cell_type": "code",
   "execution_count": null,
   "metadata": {
    "collapsed": false
   },
   "outputs": [],
   "source": [
    "plt.scatter(teams['salary'][2001], teams['W'][2001])\n",
    "plt.show()"
   ]
  },
  {
   "cell_type": "code",
   "execution_count": null,
   "metadata": {
    "collapsed": false
   },
   "outputs": [],
   "source": [
    "def millions(x, pos):\n",
    "    'The two args are the value and tick position'\n",
    "    return '$%1.1fM' % (x*1e-6)\n",
    "\n",
    "formatter = FuncFormatter(millions)\n",
    "\n",
    "def plot_spending_wins(teams, year):    \n",
    "    teams_year = teams.xs(year)\n",
    "    fig, ax = plt.subplots()\n",
    "    for i in teams_year.index:\n",
    "        if i == 'OAK':\n",
    "            ax.scatter(teams_year['salary'][i], teams_year['W'][i], color=\"#4DDB94\", s=200)\n",
    "            ax.annotate(i, (teams_year['salary'][i], teams_year['W'][i]),\n",
    "                        bbox=dict(boxstyle=\"round\", color=\"#4DDB94\"),\n",
    "                        xytext=(-30, 30), textcoords='offset points',\n",
    "                        arrowprops=dict(arrowstyle=\"->\", connectionstyle=\"angle,angleA=0,angleB=90,rad=10\"))\n",
    "        elif i == 'NYA':\n",
    "            ax.scatter(teams_year['salary'][i], teams_year['W'][i], color=\"#0099FF\", s=200)\n",
    "            ax.annotate(i, (teams_year['salary'][i], teams_year['W'][i]),\n",
    "                        bbox=dict(boxstyle=\"round\", color=\"#0099FF\"),\n",
    "                        xytext=(30, -30), textcoords='offset points',\n",
    "                        arrowprops=dict(arrowstyle=\"->\", connectionstyle=\"angle,angleA=0,angleB=90,rad=10\"))\n",
    "        elif i == 'BOS':\n",
    "            ax.scatter(teams_year['salary'][i], teams_year['W'][i], color=\"#FF6666\", s=200)\n",
    "            ax.annotate(i, (teams_year['salary'][i], teams_year['W'][i]),\n",
    "                        bbox=dict(boxstyle=\"round\", color=\"#FF6666\"),\n",
    "                        xytext=(-30, 30), textcoords='offset points',\n",
    "                        arrowprops=dict(arrowstyle=\"->\", connectionstyle=\"angle,angleA=0,angleB=90,rad=10\"))     \n",
    "        else:\n",
    "            ax.scatter(teams_year['salary'][i], teams_year['W'][i], color=\"grey\", s=200)\n",
    "    ax.xaxis.set_major_formatter(formatter) \n",
    "    ax.tick_params(axis='x', labelsize=15)\n",
    "    ax.tick_params(axis='y', labelsize=15)\n",
    "    ax.set_xlabel('Salaries', fontsize=20)\n",
    "    ax.set_ylabel('Number of Wins' , fontsize=20)\n",
    "    ax.set_title('Salaries - Wins: '+ str(year), fontsize=25, fontweight='bold')\n",
    "    plt.show()"
   ]
  },
  {
   "cell_type": "code",
   "execution_count": null,
   "metadata": {
    "collapsed": false
   },
   "outputs": [],
   "source": [
    "plot_spending_wins(teams, 1997)"
   ]
  },
  {
   "cell_type": "code",
   "execution_count": null,
   "metadata": {
    "collapsed": false
   },
   "outputs": [],
   "source": [
    "plot_spending_wins(teams, 2001)"
   ]
  },
  {
   "cell_type": "code",
   "execution_count": null,
   "metadata": {
    "collapsed": false
   },
   "outputs": [],
   "source": [
    "plot_spending_wins(teams, 2003)"
   ]
  },
  {
   "cell_type": "code",
   "execution_count": null,
   "metadata": {
    "collapsed": false
   },
   "outputs": [],
   "source": [
    "plot_spending_wins(teams, 2013)"
   ]
  },
  {
   "cell_type": "code",
   "execution_count": null,
   "metadata": {
    "collapsed": false
   },
   "outputs": [],
   "source": [
    "teams['BA'] = teams['H']/teams['AB']\n",
    "teams['OBP'] = (teams['H'] + teams['BB'] + teams['HBP']) / (teams['AB'] + teams['BB'] + teams['HBP'] + teams['SF'])\n",
    "teams['SLG'] = (teams['H'] + teams['2B'] + (2*teams['3B']) + (3*teams['HR'])) / teams['AB']"
   ]
  },
  {
   "cell_type": "code",
   "execution_count": null,
   "metadata": {
    "collapsed": false
   },
   "outputs": [],
   "source": [
    "import statsmodels.formula.api as sm"
   ]
  },
  {
   "cell_type": "code",
   "execution_count": null,
   "metadata": {
    "collapsed": false
   },
   "outputs": [],
   "source": [
    "#First Model\n",
    "runs_reg_model1 = sm.ols(\"R~OBP+SLG+BA\",teams)\n",
    "runs_reg1 = runs_reg_model1.fit()\n",
    "#Second Model\n",
    "runs_reg_model2 = sm.ols(\"R~OBP+SLG\",teams)\n",
    "runs_reg2 = runs_reg_model2.fit()\n",
    "#Third Model\n",
    "runs_reg_model3 = sm.ols(\"R~BA\",teams)\n",
    "runs_reg3 = runs_reg_model3.fit()"
   ]
  },
  {
   "cell_type": "code",
   "execution_count": null,
   "metadata": {
    "collapsed": false
   },
   "outputs": [],
   "source": [
    "runs_reg1.summary()"
   ]
  },
  {
   "cell_type": "code",
   "execution_count": null,
   "metadata": {
    "collapsed": false
   },
   "outputs": [],
   "source": [
    "runs_reg2.summary()"
   ]
  },
  {
   "cell_type": "code",
   "execution_count": null,
   "metadata": {
    "collapsed": false
   },
   "outputs": [],
   "source": [
    "runs_reg3.summary()"
   ]
  }
 ],
 "metadata": {
  "kernelspec": {
   "display_name": "Python 2",
   "language": "python",
   "name": "python2"
  },
  "language_info": {
   "codemirror_mode": {
    "name": "ipython",
    "version": 2
   },
   "file_extension": ".py",
   "mimetype": "text/x-python",
   "name": "python",
   "nbconvert_exporter": "python",
   "pygments_lexer": "ipython2",
   "version": "2.7.6"
  }
 },
 "nbformat": 4,
 "nbformat_minor": 0
}
