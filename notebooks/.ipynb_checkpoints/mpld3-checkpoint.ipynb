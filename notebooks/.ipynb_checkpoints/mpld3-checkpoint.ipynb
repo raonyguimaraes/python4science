{
 "metadata": {
  "name": ""
 },
 "nbformat": 3,
 "nbformat_minor": 0,
 "worksheets": [
  {
   "cells": [
    {
     "cell_type": "code",
     "collapsed": false,
     "input": [
      "#Source http://jakevdp.github.io/blog/2013/12/19/a-d3-viewer-for-matplotlib/\n",
      "#https://github.com/jakevdp/mpld3\n",
      "%matplotlib inline\n",
      "import numpy as np\n",
      "import matplotlib.pyplot as plt\n",
      "from mpld3.display import display_d3"
     ],
     "language": "python",
     "metadata": {},
     "outputs": [
      {
       "ename": "ImportError",
       "evalue": "No module named mpld3.display",
       "output_type": "pyerr",
       "traceback": [
        "\u001b[0;31m---------------------------------------------------------------------------\u001b[0m\n\u001b[0;31mImportError\u001b[0m                               Traceback (most recent call last)",
        "\u001b[0;32m<ipython-input-1-9625a4c4d14c>\u001b[0m in \u001b[0;36m<module>\u001b[0;34m()\u001b[0m\n\u001b[1;32m      3\u001b[0m \u001b[0;32mimport\u001b[0m \u001b[0mnumpy\u001b[0m \u001b[0;32mas\u001b[0m \u001b[0mnp\u001b[0m\u001b[0;34m\u001b[0m\u001b[0m\n\u001b[1;32m      4\u001b[0m \u001b[0;32mimport\u001b[0m \u001b[0mmatplotlib\u001b[0m\u001b[0;34m.\u001b[0m\u001b[0mpyplot\u001b[0m \u001b[0;32mas\u001b[0m \u001b[0mplt\u001b[0m\u001b[0;34m\u001b[0m\u001b[0m\n\u001b[0;32m----> 5\u001b[0;31m \u001b[0;32mfrom\u001b[0m \u001b[0mmpld3\u001b[0m\u001b[0;34m.\u001b[0m\u001b[0mdisplay\u001b[0m \u001b[0;32mimport\u001b[0m \u001b[0mdisplay_d3\u001b[0m\u001b[0;34m\u001b[0m\u001b[0m\n\u001b[0m",
        "\u001b[0;31mImportError\u001b[0m: No module named mpld3.display"
       ]
      }
     ],
     "prompt_number": 1
    },
    {
     "cell_type": "code",
     "collapsed": false,
     "input": [
      "fig, ax = plt.subplots()\n",
      "np.random.seed(0)\n",
      "ax.plot(np.random.normal(size=100),\n",
      "        np.random.normal(size=100),\n",
      "        'or', ms=10, alpha=0.3)\n",
      "ax.plot(np.random.normal(size=100),\n",
      "        np.random.normal(size=100),\n",
      "        'ob', ms=20, alpha=0.1)\n",
      "\n",
      "ax.set_xlabel('this is x')\n",
      "ax.set_ylabel('this is y')\n",
      "ax.set_title('Matplotlib Plot Rendered in D3!', size=14)\n",
      "ax.grid(color='lightgray', alpha=0.7)\n",
      "\n",
      "display_d3(fig)"
     ],
     "language": "python",
     "metadata": {},
     "outputs": []
    }
   ],
   "metadata": {}
  }
 ]
}