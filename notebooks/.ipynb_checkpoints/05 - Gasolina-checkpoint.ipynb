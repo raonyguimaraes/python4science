{
 "cells": [
  {
   "cell_type": "code",
   "execution_count": 1,
   "metadata": {
    "collapsed": false
   },
   "outputs": [],
   "source": [
    "#!/usr/bin/env python\n",
    "# -*- coding: utf-8 -*-\n",
    "\n",
    "import sys\n",
    "reload(sys)\n",
    "sys.setdefaultencoding(\"utf-8\")\n",
    "\n",
    "from bs4 import BeautifulSoup\n",
    "import re\n",
    "\n",
    "import urllib, urllib2, json\n",
    "import os"
   ]
  },
  {
   "cell_type": "code",
   "execution_count": 2,
   "metadata": {
    "collapsed": false
   },
   "outputs": [
    {
     "data": {
      "text/plain": [
       "'/home/raony/development/python4science/notebooks'"
      ]
     },
     "execution_count": 2,
     "metadata": {},
     "output_type": "execute_result"
    }
   ],
   "source": [
    "os.getcwd()"
   ]
  },
  {
   "cell_type": "code",
   "execution_count": 3,
   "metadata": {
    "collapsed": false,
    "scrolled": true
   },
   "outputs": [
    {
     "data": {
      "text/plain": [
       "17"
      ]
     },
     "execution_count": 3,
     "metadata": {},
     "output_type": "execute_result"
    }
   ],
   "source": [
    "#url = 'http://www.mercadomineiro.com.br/pesquisa/gasolina-pesquisa-precos/'\n",
    "\n",
    "#response = urllib2.urlopen(url).read()\n",
    "response = urllib2.urlopen(\"file:///home/raony/development/python4science/gasprices/dataset/gasolina.html\").read()\n",
    "soup = BeautifulSoup(response)\n",
    "tables = soup.find_all(\"table\")\n",
    "len(tables)"
   ]
  },
  {
   "cell_type": "code",
   "execution_count": 4,
   "metadata": {
    "collapsed": false
   },
   "outputs": [],
   "source": [
    "#remove two tables from start\n",
    "tables = tables[2::]\n",
    "#remove one table from end\n",
    "tables = tables[:-1]\n",
    "\n",
    "postos_count = 0\n",
    "postos = {}\n",
    "\n",
    "for table in tables:\n",
    "    # print table.tbody\n",
    "    rows = table.findAll('tr')\n",
    "    for tr in rows:\n",
    "      cols = tr.findAll('td')\n",
    "      # print 'td length', len(cols)\n",
    "      if  len(cols) == 3:\n",
    "        postos_count +=1\n",
    "        posto = cols[0].font.a.text\n",
    "        postos[posto] = {}\n",
    "        #endereco\n",
    "        endereco = cols[0].div.div.text\n",
    "        endereco = endereco.replace('\\n', '').strip()\n",
    "        endereco = re.sub(r'\\s+', ' ', endereco)\n",
    "        # print endereco\n",
    "        postos[posto]['endereco'] = endereco\n",
    "        \n",
    "        #treat empty\n",
    "        if cols[1].text != '-':\n",
    "            gas_comum = cols[1].div.font.text\n",
    "            postos[posto]['gas_comum'] = gas_comum\n",
    "        if cols[2].text != '-':\n",
    "            gas_aditivada = cols[2].div.font.text\n",
    "            postos[posto]['gas_aditivada'] = gas_aditivada\n",
    "\n"
   ]
  },
  {
   "cell_type": "code",
   "execution_count": 5,
   "metadata": {
    "collapsed": false
   },
   "outputs": [
    {
     "data": {
      "text/plain": [
       "143"
      ]
     },
     "execution_count": 5,
     "metadata": {},
     "output_type": "execute_result"
    }
   ],
   "source": [
    "len(postos)"
   ]
  },
  {
   "cell_type": "code",
   "execution_count": 6,
   "metadata": {
    "collapsed": false
   },
   "outputs": [],
   "source": [
    "def decode_address_to_coordinates(address):\n",
    "        params = {\n",
    "                'address' : address,\n",
    "                'sensor' : 'false',\n",
    "        }  \n",
    "        url = 'http://maps.google.com/maps/api/geocode/json?' + urllib.urlencode(params)\n",
    "        response = urllib2.urlopen(url)\n",
    "        result = json.load(response)\n",
    "        try:\n",
    "                return result['results'][0]['geometry']['location']\n",
    "        except:\n",
    "                return None\n"
   ]
  },
  {
   "cell_type": "code",
   "execution_count": 7,
   "metadata": {
    "collapsed": false
   },
   "outputs": [],
   "source": [
    "for idx, posto in enumerate(postos):\n",
    "    if 'gas_comum' in postos[posto]:\n",
    "        # print postos[posto]\n",
    "        address =  postos[posto]['endereco'].decode('utf-8')\n",
    "        # print address\n",
    "        coordinates = decode_address_to_coordinates(address)\n",
    "        if coordinates:\n",
    "            output = '''\n",
    "        var posto%s = new google.maps.LatLng(%s,%s);\n",
    "        var gas_value%s = \"%s\"\n",
    "        var marker = new MarkerWithLabel({\n",
    "           position: posto%s,\n",
    "           draggable: true,\n",
    "           raiseOnDrag: true,\n",
    "           map: map,\n",
    "           labelContent: gas_value%s,\n",
    "           labelAnchor: new google.maps.Point(22, 0),\n",
    "           labelClass: \"labels\" // the CSS class for the label\n",
    "        });\n",
    "            ''' % (idx, coordinates['lat'], coordinates['lng'], idx, postos[posto]['gas_comum'], idx, idx)\n",
    "            print output"
   ]
  },
  {
   "cell_type": "code",
   "execution_count": null,
   "metadata": {
    "collapsed": false
   },
   "outputs": [],
   "source": []
  }
 ],
 "metadata": {
  "kernelspec": {
   "display_name": "Python 2",
   "language": "python",
   "name": "python2"
  },
  "language_info": {
   "codemirror_mode": {
    "name": "ipython",
    "version": 2
   },
   "file_extension": ".py",
   "mimetype": "text/x-python",
   "name": "python",
   "nbconvert_exporter": "python",
   "pygments_lexer": "ipython2",
   "version": "2.7.6"
  }
 },
 "nbformat": 4,
 "nbformat_minor": 0
}
